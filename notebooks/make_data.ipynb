{
 "cells": [
  {
   "cell_type": "markdown",
   "metadata": {},
   "source": [
    "# Make up some data for the unfair casino"
   ]
  },
  {
   "cell_type": "code",
   "execution_count": 28,
   "metadata": {
    "collapsed": true
   },
   "outputs": [],
   "source": [
    "import numpy as np\n",
    "import pandas as pd\n",
    "import os"
   ]
  },
  {
   "cell_type": "code",
   "execution_count": 20,
   "metadata": {
    "collapsed": true
   },
   "outputs": [],
   "source": [
    "fair_dice_emission_vector = np.ones(shape=(6,))\n",
    "fair_dice_emission_vector /= fair_dice_emission_vector.sum()"
   ]
  },
  {
   "cell_type": "code",
   "execution_count": 21,
   "metadata": {
    "collapsed": false
   },
   "outputs": [
    {
     "data": {
      "text/plain": [
       "array([ 0.16666667,  0.16666667,  0.16666667,  0.16666667,  0.16666667,\n",
       "        0.16666667])"
      ]
     },
     "execution_count": 21,
     "metadata": {},
     "output_type": "execute_result"
    }
   ],
   "source": [
    "fair_dice_emission_vector"
   ]
  },
  {
   "cell_type": "code",
   "execution_count": 22,
   "metadata": {
    "collapsed": false
   },
   "outputs": [],
   "source": [
    "unfair_dice_emission_vector = np.array([1,1,1,1,100,100], dtype=float)\n",
    "unfair_dice_emission_vector /= unfair_dice_emission_vector.sum()"
   ]
  },
  {
   "cell_type": "code",
   "execution_count": 23,
   "metadata": {
    "collapsed": false
   },
   "outputs": [
    {
     "data": {
      "text/plain": [
       "array([ 0.00490196,  0.00490196,  0.00490196,  0.00490196,  0.49019608,\n",
       "        0.49019608])"
      ]
     },
     "execution_count": 23,
     "metadata": {},
     "output_type": "execute_result"
    }
   ],
   "source": [
    "unfair_dice_emission_vector"
   ]
  },
  {
   "cell_type": "code",
   "execution_count": 24,
   "metadata": {
    "collapsed": true
   },
   "outputs": [],
   "source": [
    "# fair state: 0, unfair state: 1\n",
    "latent_model_transition_matrix = np.array([[0.9, 0.1],\n",
    "                                           [0.3, 0.7]])"
   ]
  },
  {
   "cell_type": "code",
   "execution_count": 25,
   "metadata": {
    "collapsed": true
   },
   "outputs": [],
   "source": [
    "def roll_dice(emission_probs):\n",
    "    assert(len(emission_probs) == 6)\n",
    "    cumulative_probs = np.cumsum(emission_probs)\n",
    "    roll = np.random.random()\n",
    "    value = None\n",
    "    for i in range(len(cumulative_probs)):\n",
    "        if roll < cumulative_probs[i]:\n",
    "            value = i+1\n",
    "            break\n",
    "            \n",
    "    return value\n",
    "\n",
    "\n",
    "def do_the_transition(current_state, transition_matrix):\n",
    "    # this is the 'roll of the dice'\n",
    "    transition_prob = np.random.random()\n",
    "    # get the transition probability data\n",
    "    probs = transition_matrix[current_state, :]\n",
    "    cum_probs = np.cumsum(probs)\n",
    "    next_state = None\n",
    "    for i in range(len(cum_probs)):\n",
    "        if transition_prob < cum_probs[i]:\n",
    "            next_state = i\n",
    "            break\n",
    "    return next_state\n",
    "    "
   ]
  },
  {
   "cell_type": "code",
   "execution_count": 26,
   "metadata": {
    "collapsed": true
   },
   "outputs": [],
   "source": [
    "# let's make up a bunch of stuff\n",
    "current_latent_state = 0 # start in the fair state\n",
    "\n",
    "data = []\n",
    "\n",
    "for i in range(0, 10000):\n",
    "    if current_latent_state == 0: # in fair mode\n",
    "        dice_value = roll_dice(fair_dice_emission_vector)\n",
    "        data.append((0, dice_value)) # fair state, what we rolled this time around\n",
    "    elif current_latent_state == 1:\n",
    "        dice_value = roll_dice(unfair_dice_emission_vector)\n",
    "        data.append((1, dice_value)) # unfair state, what we rolled this time\n",
    "    else:\n",
    "        raise ValueError('You somehow screwed up the latent state value')\n",
    "        \n",
    "    # now let's get the next state\n",
    "    current_latent_state = do_the_transition(current_latent_state, latent_model_transition_matrix)\n",
    "    \n",
    "        "
   ]
  },
  {
   "cell_type": "code",
   "execution_count": 27,
   "metadata": {
    "collapsed": false
   },
   "outputs": [
    {
     "data": {
      "text/plain": [
       "[(0, 6),\n",
       " (1, 6),\n",
       " (1, 6),\n",
       " (1, 5),\n",
       " (1, 6),\n",
       " (1, 6),\n",
       " (0, 3),\n",
       " (0, 2),\n",
       " (0, 2),\n",
       " (0, 3),\n",
       " (0, 4),\n",
       " (0, 1),\n",
       " (0, 6),\n",
       " (0, 1),\n",
       " (0, 4),\n",
       " (1, 6),\n",
       " (1, 6),\n",
       " (0, 5),\n",
       " (0, 6),\n",
       " (0, 2),\n",
       " (0, 4),\n",
       " (0, 6),\n",
       " (0, 4),\n",
       " (0, 3),\n",
       " (0, 4),\n",
       " (0, 1),\n",
       " (0, 6),\n",
       " (0, 6),\n",
       " (0, 2),\n",
       " (0, 6),\n",
       " (0, 6),\n",
       " (0, 3),\n",
       " (0, 4),\n",
       " (0, 4),\n",
       " (0, 6),\n",
       " (0, 2),\n",
       " (0, 1),\n",
       " (0, 1),\n",
       " (0, 4),\n",
       " (0, 6),\n",
       " (0, 5),\n",
       " (0, 4),\n",
       " (0, 1),\n",
       " (0, 6),\n",
       " (0, 4),\n",
       " (0, 2),\n",
       " (1, 6),\n",
       " (1, 6),\n",
       " (1, 6),\n",
       " (1, 6)]"
      ]
     },
     "execution_count": 27,
     "metadata": {},
     "output_type": "execute_result"
    }
   ],
   "source": [
    "data[0:50]"
   ]
  },
  {
   "cell_type": "code",
   "execution_count": 31,
   "metadata": {
    "collapsed": true
   },
   "outputs": [],
   "source": [
    "data_df = pd.DataFrame(data=data, columns=['state', 'dice_value'])\n",
    "emission_df = pd.DataFrame(data=[fair_dice_emission_vector, unfair_dice_emission_vector],\n",
    "                           index=['fair', 'unfair'],\n",
    "                           columns=[i+1 for i in range(0,6)])\n",
    "transition_df = pd.DataFrame(data=latent_model_transition_matrix, index=['fair', 'unfair'], columns=['fair', 'unfair'])"
   ]
  },
  {
   "cell_type": "code",
   "execution_count": 32,
   "metadata": {
    "collapsed": false
   },
   "outputs": [
    {
     "data": {
      "text/html": [
       "<div>\n",
       "<table border=\"1\" class=\"dataframe\">\n",
       "  <thead>\n",
       "    <tr style=\"text-align: right;\">\n",
       "      <th></th>\n",
       "      <th>1</th>\n",
       "      <th>2</th>\n",
       "      <th>3</th>\n",
       "      <th>4</th>\n",
       "      <th>5</th>\n",
       "      <th>6</th>\n",
       "    </tr>\n",
       "  </thead>\n",
       "  <tbody>\n",
       "    <tr>\n",
       "      <th>fair</th>\n",
       "      <td>0.166667</td>\n",
       "      <td>0.166667</td>\n",
       "      <td>0.166667</td>\n",
       "      <td>0.166667</td>\n",
       "      <td>0.166667</td>\n",
       "      <td>0.166667</td>\n",
       "    </tr>\n",
       "    <tr>\n",
       "      <th>unfair</th>\n",
       "      <td>0.004902</td>\n",
       "      <td>0.004902</td>\n",
       "      <td>0.004902</td>\n",
       "      <td>0.004902</td>\n",
       "      <td>0.490196</td>\n",
       "      <td>0.490196</td>\n",
       "    </tr>\n",
       "  </tbody>\n",
       "</table>\n",
       "</div>"
      ],
      "text/plain": [
       "               1         2         3         4         5         6\n",
       "fair    0.166667  0.166667  0.166667  0.166667  0.166667  0.166667\n",
       "unfair  0.004902  0.004902  0.004902  0.004902  0.490196  0.490196"
      ]
     },
     "execution_count": 32,
     "metadata": {},
     "output_type": "execute_result"
    }
   ],
   "source": [
    "emission_df"
   ]
  },
  {
   "cell_type": "code",
   "execution_count": 33,
   "metadata": {
    "collapsed": false
   },
   "outputs": [
    {
     "data": {
      "text/html": [
       "<div>\n",
       "<table border=\"1\" class=\"dataframe\">\n",
       "  <thead>\n",
       "    <tr style=\"text-align: right;\">\n",
       "      <th></th>\n",
       "      <th>fair</th>\n",
       "      <th>unfair</th>\n",
       "    </tr>\n",
       "  </thead>\n",
       "  <tbody>\n",
       "    <tr>\n",
       "      <th>fair</th>\n",
       "      <td>0.9</td>\n",
       "      <td>0.1</td>\n",
       "    </tr>\n",
       "    <tr>\n",
       "      <th>unfair</th>\n",
       "      <td>0.3</td>\n",
       "      <td>0.7</td>\n",
       "    </tr>\n",
       "  </tbody>\n",
       "</table>\n",
       "</div>"
      ],
      "text/plain": [
       "        fair  unfair\n",
       "fair     0.9     0.1\n",
       "unfair   0.3     0.7"
      ]
     },
     "execution_count": 33,
     "metadata": {},
     "output_type": "execute_result"
    }
   ],
   "source": [
    "transition_df"
   ]
  },
  {
   "cell_type": "code",
   "execution_count": 34,
   "metadata": {
    "collapsed": true
   },
   "outputs": [],
   "source": [
    "data_file = os.path.join('..' ,'data', 'casino_data.csv')\n",
    "emission_file = os.path.join('..', 'data', 'dice_probs.csv')\n",
    "transition_file = os.path.join('..', 'data', 'casino_transitions.csv')\n",
    "\n",
    "data_df.to_csv(data_file)\n",
    "emission_df.to_csv(emission_file)\n",
    "transition_df.to_csv(transition_file)"
   ]
  },
  {
   "cell_type": "code",
   "execution_count": null,
   "metadata": {
    "collapsed": true
   },
   "outputs": [],
   "source": []
  }
 ],
 "metadata": {
  "kernelspec": {
   "display_name": "Python [conda env:ENVPy3]",
   "language": "python",
   "name": "conda-env-ENVPy3-py"
  },
  "language_info": {
   "codemirror_mode": {
    "name": "ipython",
    "version": 3
   },
   "file_extension": ".py",
   "mimetype": "text/x-python",
   "name": "python",
   "nbconvert_exporter": "python",
   "pygments_lexer": "ipython3",
   "version": "3.5.2"
  }
 },
 "nbformat": 4,
 "nbformat_minor": 2
}
